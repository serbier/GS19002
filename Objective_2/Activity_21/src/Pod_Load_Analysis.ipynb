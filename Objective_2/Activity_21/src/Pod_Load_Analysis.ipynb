{
 "cells": [
  {
   "cell_type": "markdown",
   "metadata": {},
   "source": [
    "# Pod Load Analysis over GCDT $F_{4.5}$ Intespecific Population"
   ]
  },
  {
   "cell_type": "markdown",
   "metadata": {},
   "source": [
    "### Rationale\n",
    "Before built the mapping population was carried out a preliminary heat trial at CIAT HQ heat greenhouses for screen whole population composed by 892 $F_{45}$ families, the main objective of this evaluation was get a criteria for reduce population size to a number suitable for phenotype and genotype. The variable used was pod load a visual score of fuctification. The scale of this variable was 1 to best pod load to 5 worst por load."
   ]
  },
  {
   "cell_type": "code",
   "execution_count": null,
   "metadata": {},
   "outputs": [],
   "source": [
    "import pandas as pd\n",
    "from collections import defaultdict"
   ]
  },
  {
   "cell_type": "code",
   "execution_count": 13,
   "metadata": {},
   "outputs": [
    {
     "data": {
      "text/html": [
       "<div>\n",
       "<style scoped>\n",
       "    .dataframe tbody tr th:only-of-type {\n",
       "        vertical-align: middle;\n",
       "    }\n",
       "\n",
       "    .dataframe tbody tr th {\n",
       "        vertical-align: top;\n",
       "    }\n",
       "\n",
       "    .dataframe thead th {\n",
       "        text-align: right;\n",
       "    }\n",
       "</style>\n",
       "<table border=\"1\" class=\"dataframe\">\n",
       "  <thead>\n",
       "    <tr style=\"text-align: right;\">\n",
       "      <th></th>\n",
       "      <th>UE</th>\n",
       "      <th>Cross</th>\n",
       "      <th>F3.4 Surco</th>\n",
       "      <th>Column</th>\n",
       "      <th>Row</th>\n",
       "      <th>Cod</th>\n",
       "      <th>No</th>\n",
       "      <th>Adap. M *F4.5</th>\n",
       "      <th>family</th>\n",
       "      <th>f1.2</th>\n",
       "      <th>f2.3</th>\n",
       "      <th>f3.4</th>\n",
       "      <th>p1</th>\n",
       "      <th>p2</th>\n",
       "      <th>p3</th>\n",
       "      <th>p4</th>\n",
       "    </tr>\n",
       "  </thead>\n",
       "  <tbody>\n",
       "    <tr>\n",
       "      <th>0</th>\n",
       "      <td>1</td>\n",
       "      <td>((VAP    1xG 40056)F1 X SEN  118)F1 X SMR  155...</td>\n",
       "      <td>963.0</td>\n",
       "      <td>1</td>\n",
       "      <td>34</td>\n",
       "      <td>QINT</td>\n",
       "      <td>19095-001</td>\n",
       "      <td>2</td>\n",
       "      <td>((VAP    1xG 40056)F1 X SEN  118)F1 X SMR  155</td>\n",
       "      <td>001F1</td>\n",
       "      <td>18C</td>\n",
       "      <td>03C</td>\n",
       "      <td>VAP 1</td>\n",
       "      <td>G 40056</td>\n",
       "      <td>SEN 118</td>\n",
       "      <td>SMR 155</td>\n",
       "    </tr>\n",
       "    <tr>\n",
       "      <th>1</th>\n",
       "      <td>2</td>\n",
       "      <td>((VAP    1xG 40056)F1 X SEN  118)F1 X SEN  118...</td>\n",
       "      <td>1293.0</td>\n",
       "      <td>1</td>\n",
       "      <td>33</td>\n",
       "      <td>QINT</td>\n",
       "      <td>19098-001</td>\n",
       "      <td>2</td>\n",
       "      <td>((VAP    1xG 40056)F1 X SEN  118)F1 X SEN  118</td>\n",
       "      <td>001F1</td>\n",
       "      <td>15C</td>\n",
       "      <td>02C</td>\n",
       "      <td>VAP 1</td>\n",
       "      <td>G 40056</td>\n",
       "      <td>SEN 118</td>\n",
       "      <td>SEN 118</td>\n",
       "    </tr>\n",
       "    <tr>\n",
       "      <th>2</th>\n",
       "      <td>3</td>\n",
       "      <td>((VAP    1xG 40287)F1 X ICTA LIGERO)F1 X SMR  ...</td>\n",
       "      <td>1349.0</td>\n",
       "      <td>1</td>\n",
       "      <td>32</td>\n",
       "      <td>QINT</td>\n",
       "      <td>19103-003</td>\n",
       "      <td>2</td>\n",
       "      <td>((VAP    1xG 40287)F1 X ICTA LIGERO)F1 X SMR  155</td>\n",
       "      <td>003F1</td>\n",
       "      <td>11C</td>\n",
       "      <td>02C</td>\n",
       "      <td>VAP 1</td>\n",
       "      <td>G 40287</td>\n",
       "      <td>ICTA LIGERO</td>\n",
       "      <td>SMR 155</td>\n",
       "    </tr>\n",
       "    <tr>\n",
       "      <th>3</th>\n",
       "      <td>4</td>\n",
       "      <td>((VAP    1xG 40056)F1 X SEN  118)F1 X SMR  155...</td>\n",
       "      <td>1019.0</td>\n",
       "      <td>1</td>\n",
       "      <td>31</td>\n",
       "      <td>QINT</td>\n",
       "      <td>19095-002</td>\n",
       "      <td>2</td>\n",
       "      <td>((VAP    1xG 40056)F1 X SEN  118)F1 X SMR  155</td>\n",
       "      <td>002F1</td>\n",
       "      <td>01C</td>\n",
       "      <td>01C</td>\n",
       "      <td>VAP 1</td>\n",
       "      <td>G 40056</td>\n",
       "      <td>SEN 118</td>\n",
       "      <td>SMR 155</td>\n",
       "    </tr>\n",
       "    <tr>\n",
       "      <th>4</th>\n",
       "      <td>5</td>\n",
       "      <td>((VAP    1xG 40287)F1 X SEF   10)F1 X ICTA LIG...</td>\n",
       "      <td>1660.0</td>\n",
       "      <td>1</td>\n",
       "      <td>30</td>\n",
       "      <td>QINT</td>\n",
       "      <td>19111-004</td>\n",
       "      <td>2</td>\n",
       "      <td>((VAP    1xG 40287)F1 X SEF   10)F1 X ICTA LIGERO</td>\n",
       "      <td>004F1</td>\n",
       "      <td>16C</td>\n",
       "      <td>03C</td>\n",
       "      <td>VAP 1</td>\n",
       "      <td>G 40287</td>\n",
       "      <td>SEF 10</td>\n",
       "      <td>ICTA LIGERO</td>\n",
       "    </tr>\n",
       "  </tbody>\n",
       "</table>\n",
       "</div>"
      ],
      "text/plain": [
       "   UE                                              Cross  F3.4 Surco  Column  \\\n",
       "0   1  ((VAP    1xG 40056)F1 X SEN  118)F1 X SMR  155...       963.0       1   \n",
       "1   2  ((VAP    1xG 40056)F1 X SEN  118)F1 X SEN  118...      1293.0       1   \n",
       "2   3  ((VAP    1xG 40287)F1 X ICTA LIGERO)F1 X SMR  ...      1349.0       1   \n",
       "3   4  ((VAP    1xG 40056)F1 X SEN  118)F1 X SMR  155...      1019.0       1   \n",
       "4   5  ((VAP    1xG 40287)F1 X SEF   10)F1 X ICTA LIG...      1660.0       1   \n",
       "\n",
       "   Row   Cod         No  Adap. M *F4.5  \\\n",
       "0   34  QINT  19095-001              2   \n",
       "1   33  QINT  19098-001              2   \n",
       "2   32  QINT  19103-003              2   \n",
       "3   31  QINT  19095-002              2   \n",
       "4   30  QINT  19111-004              2   \n",
       "\n",
       "                                              family   f1.2 f2.3 f3.4     p1  \\\n",
       "0     ((VAP    1xG 40056)F1 X SEN  118)F1 X SMR  155  001F1  18C  03C  VAP 1   \n",
       "1     ((VAP    1xG 40056)F1 X SEN  118)F1 X SEN  118  001F1  15C  02C  VAP 1   \n",
       "2  ((VAP    1xG 40287)F1 X ICTA LIGERO)F1 X SMR  155  003F1  11C  02C  VAP 1   \n",
       "3     ((VAP    1xG 40056)F1 X SEN  118)F1 X SMR  155  002F1  01C  01C  VAP 1   \n",
       "4  ((VAP    1xG 40287)F1 X SEF   10)F1 X ICTA LIGERO  004F1  16C  03C  VAP 1   \n",
       "\n",
       "        p2           p3           p4  \n",
       "0  G 40056      SEN 118      SMR 155  \n",
       "1  G 40056      SEN 118      SEN 118  \n",
       "2  G 40287  ICTA LIGERO      SMR 155  \n",
       "3  G 40056      SEN 118      SMR 155  \n",
       "4  G 40287       SEF 10  ICTA LIGERO  "
      ]
     },
     "execution_count": 13,
     "metadata": {},
     "output_type": "execute_result"
    }
   ],
   "source": [
    "#Phenotipic information of pod load in the column Adap. M *F4.5\n",
    "df = pd.read_excel('./../data/repAdap.xlsx')\n",
    "df.head()"
   ]
  },
  {
   "cell_type": "markdown",
   "metadata": {},
   "source": [
    "For visualize pod load data were made by crossing stacked barplots with pod load score for each $F_{1.2}$ subgroup "
   ]
  },
  {
   "cell_type": "code",
   "execution_count": 15,
   "metadata": {},
   "outputs": [],
   "source": [
    "\n",
    "fdata = defaultdict(dict)\n",
    "titles = list()\n",
    "for i, subdf in df.groupby(['family', 'f1.2'], as_index=False):\n",
    "    if i[0] not in titles:\n",
    "        titles.append(i[0])\n",
    "    counts = subdf.groupby('Adap. M *F4.5', as_index=False).count()\n",
    "    countsTotal = counts['UE'].sum()\n",
    "    for j in counts['Adap. M *F4.5'].unique():\n",
    "        catData = list(counts[counts['Adap. M *F4.5'] == j]['UE'])[0]\n",
    "        fdata[\"%s/%s\" %i][j] = [round(catData/countsTotal+.0,2),catData]\n",
    "    "
   ]
  },
  {
   "cell_type": "code",
   "execution_count": 16,
   "metadata": {},
   "outputs": [],
   "source": [
    "import plotly.graph_objects as go\n",
    "from plotly.subplots import make_subplots"
   ]
  },
  {
   "cell_type": "code",
   "execution_count": 17,
   "metadata": {},
   "outputs": [
    {
     "data": {
      "application/vnd.plotly.v1+json": {
       "config": {
        "plotlyServerURL": "https://plot.ly"
       },
       "data": [
        {
         "marker": {
          "color": "#de425b"
         },
         "name": "1",
         "type": "bar",
         "x": [
          "001F1",
          "002F1",
          "003F1",
          "004F1"
         ],
         "xaxis": "x",
         "y": [
          2,
          0,
          2,
          2
         ],
         "yaxis": "y"
        },
        {
         "marker": {
          "color": "#f9a161"
         },
         "name": "2",
         "type": "bar",
         "x": [
          "001F1",
          "002F1",
          "003F1",
          "004F1"
         ],
         "xaxis": "x",
         "y": [
          5,
          2,
          3,
          1
         ],
         "yaxis": "y"
        },
        {
         "marker": {
          "color": "#a8c163"
         },
         "name": "3",
         "type": "bar",
         "x": [
          "001F1",
          "002F1",
          "003F1",
          "004F1"
         ],
         "xaxis": "x",
         "y": [
          2,
          3,
          2,
          4
         ],
         "yaxis": "y"
        },
        {
         "marker": {
          "color": "#488f31"
         },
         "name": "4",
         "type": "bar",
         "x": [
          "001F1",
          "002F1",
          "003F1",
          "004F1"
         ],
         "xaxis": "x",
         "y": [
          1,
          0,
          0,
          1
         ],
         "yaxis": "y"
        },
        {
         "marker": {
          "color": "#de425b"
         },
         "name": "1",
         "type": "bar",
         "x": [
          "001F1",
          "002F1",
          "003F1",
          "004F1",
          "005F1"
         ],
         "xaxis": "x2",
         "y": [
          3,
          4,
          6,
          8,
          4
         ],
         "yaxis": "y2"
        },
        {
         "marker": {
          "color": "#f9a161"
         },
         "name": "2",
         "type": "bar",
         "x": [
          "001F1",
          "002F1",
          "003F1",
          "004F1",
          "005F1"
         ],
         "xaxis": "x2",
         "y": [
          13,
          12,
          6,
          15,
          8
         ],
         "yaxis": "y2"
        },
        {
         "marker": {
          "color": "#a8c163"
         },
         "name": "3",
         "type": "bar",
         "x": [
          "001F1",
          "002F1",
          "003F1",
          "004F1",
          "005F1"
         ],
         "xaxis": "x2",
         "y": [
          12,
          1,
          3,
          9,
          11
         ],
         "yaxis": "y2"
        },
        {
         "marker": {
          "color": "#488f31"
         },
         "name": "4",
         "type": "bar",
         "x": [
          "001F1",
          "002F1",
          "003F1",
          "004F1",
          "005F1"
         ],
         "xaxis": "x2",
         "y": [
          0,
          0,
          2,
          2,
          0
         ],
         "yaxis": "y2"
        },
        {
         "marker": {
          "color": "#de425b"
         },
         "name": "1",
         "type": "bar",
         "x": [
          "001F1",
          "002F1"
         ],
         "xaxis": "x3",
         "y": [
          8,
          2
         ],
         "yaxis": "y3"
        },
        {
         "marker": {
          "color": "#f9a161"
         },
         "name": "2",
         "type": "bar",
         "x": [
          "001F1",
          "002F1"
         ],
         "xaxis": "x3",
         "y": [
          23,
          6
         ],
         "yaxis": "y3"
        },
        {
         "marker": {
          "color": "#a8c163"
         },
         "name": "3",
         "type": "bar",
         "x": [
          "001F1",
          "002F1"
         ],
         "xaxis": "x3",
         "y": [
          6,
          5
         ],
         "yaxis": "y3"
        },
        {
         "marker": {
          "color": "#488f31"
         },
         "name": "4",
         "type": "bar",
         "x": [
          "001F1",
          "002F1"
         ],
         "xaxis": "x3",
         "y": [
          1,
          1
         ],
         "yaxis": "y3"
        },
        {
         "marker": {
          "color": "#de425b"
         },
         "name": "1",
         "type": "bar",
         "x": [
          "001F1",
          "002F1",
          "003F1"
         ],
         "xaxis": "x4",
         "y": [
          22,
          10,
          6
         ],
         "yaxis": "y4"
        },
        {
         "marker": {
          "color": "#f9a161"
         },
         "name": "2",
         "type": "bar",
         "x": [
          "001F1",
          "002F1",
          "003F1"
         ],
         "xaxis": "x4",
         "y": [
          35,
          15,
          18
         ],
         "yaxis": "y4"
        },
        {
         "marker": {
          "color": "#a8c163"
         },
         "name": "3",
         "type": "bar",
         "x": [
          "001F1",
          "002F1",
          "003F1"
         ],
         "xaxis": "x4",
         "y": [
          25,
          18,
          26
         ],
         "yaxis": "y4"
        },
        {
         "marker": {
          "color": "#488f31"
         },
         "name": "4",
         "type": "bar",
         "x": [
          "001F1",
          "002F1",
          "003F1"
         ],
         "xaxis": "x4",
         "y": [
          7,
          3,
          5
         ],
         "yaxis": "y4"
        },
        {
         "marker": {
          "color": "#de425b"
         },
         "name": "1",
         "type": "bar",
         "x": [
          "001F1"
         ],
         "xaxis": "x5",
         "y": [
          4
         ],
         "yaxis": "y5"
        },
        {
         "marker": {
          "color": "#f9a161"
         },
         "name": "2",
         "type": "bar",
         "x": [
          "001F1"
         ],
         "xaxis": "x5",
         "y": [
          4
         ],
         "yaxis": "y5"
        },
        {
         "marker": {
          "color": "#a8c163"
         },
         "name": "3",
         "type": "bar",
         "x": [
          "001F1"
         ],
         "xaxis": "x5",
         "y": [
          0
         ],
         "yaxis": "y5"
        },
        {
         "marker": {
          "color": "#488f31"
         },
         "name": "4",
         "type": "bar",
         "x": [
          "001F1"
         ],
         "xaxis": "x5",
         "y": [
          1
         ],
         "yaxis": "y5"
        },
        {
         "marker": {
          "color": "#de425b"
         },
         "name": "1",
         "type": "bar",
         "x": [
          "002F1"
         ],
         "xaxis": "x6",
         "y": [
          5
         ],
         "yaxis": "y6"
        },
        {
         "marker": {
          "color": "#f9a161"
         },
         "name": "2",
         "type": "bar",
         "x": [
          "002F1"
         ],
         "xaxis": "x6",
         "y": [
          13
         ],
         "yaxis": "y6"
        },
        {
         "marker": {
          "color": "#a8c163"
         },
         "name": "3",
         "type": "bar",
         "x": [
          "002F1"
         ],
         "xaxis": "x6",
         "y": [
          5
         ],
         "yaxis": "y6"
        },
        {
         "marker": {
          "color": "#488f31"
         },
         "name": "4",
         "type": "bar",
         "x": [
          "002F1"
         ],
         "xaxis": "x6",
         "y": [
          2
         ],
         "yaxis": "y6"
        },
        {
         "marker": {
          "color": "#de425b"
         },
         "name": "1",
         "type": "bar",
         "x": [
          "002F1",
          "004F1"
         ],
         "xaxis": "x7",
         "y": [
          2,
          2
         ],
         "yaxis": "y7"
        },
        {
         "marker": {
          "color": "#f9a161"
         },
         "name": "2",
         "type": "bar",
         "x": [
          "002F1",
          "004F1"
         ],
         "xaxis": "x7",
         "y": [
          1,
          1
         ],
         "yaxis": "y7"
        },
        {
         "marker": {
          "color": "#a8c163"
         },
         "name": "3",
         "type": "bar",
         "x": [
          "002F1",
          "004F1"
         ],
         "xaxis": "x7",
         "y": [
          0,
          0
         ],
         "yaxis": "y7"
        },
        {
         "marker": {
          "color": "#488f31"
         },
         "name": "4",
         "type": "bar",
         "x": [
          "002F1",
          "004F1"
         ],
         "xaxis": "x7",
         "y": [
          0,
          0
         ],
         "yaxis": "y7"
        },
        {
         "marker": {
          "color": "#de425b"
         },
         "name": "1",
         "type": "bar",
         "x": [
          "003F1"
         ],
         "xaxis": "x8",
         "y": [
          1
         ],
         "yaxis": "y8"
        },
        {
         "marker": {
          "color": "#f9a161"
         },
         "name": "2",
         "type": "bar",
         "x": [
          "003F1"
         ],
         "xaxis": "x8",
         "y": [
          2
         ],
         "yaxis": "y8"
        },
        {
         "marker": {
          "color": "#a8c163"
         },
         "name": "3",
         "type": "bar",
         "x": [
          "003F1"
         ],
         "xaxis": "x8",
         "y": [
          0
         ],
         "yaxis": "y8"
        },
        {
         "marker": {
          "color": "#488f31"
         },
         "name": "4",
         "type": "bar",
         "x": [
          "003F1"
         ],
         "xaxis": "x8",
         "y": [
          0
         ],
         "yaxis": "y8"
        },
        {
         "marker": {
          "color": "#de425b"
         },
         "name": "1",
         "type": "bar",
         "x": [
          "001F1",
          "002F1",
          "003F1",
          "004F1",
          "005F1",
          "007F1",
          "008F1"
         ],
         "xaxis": "x9",
         "y": [
          4,
          2,
          4,
          4,
          8,
          0,
          19
         ],
         "yaxis": "y9"
        },
        {
         "marker": {
          "color": "#f9a161"
         },
         "name": "2",
         "type": "bar",
         "x": [
          "001F1",
          "002F1",
          "003F1",
          "004F1",
          "005F1",
          "007F1",
          "008F1"
         ],
         "xaxis": "x9",
         "y": [
          2,
          1,
          6,
          9,
          8,
          0,
          39
         ],
         "yaxis": "y9"
        },
        {
         "marker": {
          "color": "#a8c163"
         },
         "name": "3",
         "type": "bar",
         "x": [
          "001F1",
          "002F1",
          "003F1",
          "004F1",
          "005F1",
          "007F1",
          "008F1"
         ],
         "xaxis": "x9",
         "y": [
          0,
          0,
          3,
          13,
          4,
          3,
          34
         ],
         "yaxis": "y9"
        },
        {
         "marker": {
          "color": "#488f31"
         },
         "name": "4",
         "type": "bar",
         "x": [
          "001F1",
          "002F1",
          "003F1",
          "004F1",
          "005F1",
          "007F1",
          "008F1"
         ],
         "xaxis": "x9",
         "y": [
          0,
          0,
          0,
          3,
          0,
          1,
          2
         ],
         "yaxis": "y9"
        },
        {
         "marker": {
          "color": "#de425b"
         },
         "name": "1",
         "type": "bar",
         "x": [
          "001F1",
          "002F1",
          "003F1"
         ],
         "xaxis": "x10",
         "y": [
          0,
          2,
          7
         ],
         "yaxis": "y10"
        },
        {
         "marker": {
          "color": "#f9a161"
         },
         "name": "2",
         "type": "bar",
         "x": [
          "001F1",
          "002F1",
          "003F1"
         ],
         "xaxis": "x10",
         "y": [
          3,
          2,
          11
         ],
         "yaxis": "y10"
        },
        {
         "marker": {
          "color": "#a8c163"
         },
         "name": "3",
         "type": "bar",
         "x": [
          "001F1",
          "002F1",
          "003F1"
         ],
         "xaxis": "x10",
         "y": [
          2,
          1,
          7
         ],
         "yaxis": "y10"
        },
        {
         "marker": {
          "color": "#488f31"
         },
         "name": "4",
         "type": "bar",
         "x": [
          "001F1",
          "002F1",
          "003F1"
         ],
         "xaxis": "x10",
         "y": [
          0,
          0,
          0
         ],
         "yaxis": "y10"
        },
        {
         "marker": {
          "color": "#de425b"
         },
         "name": "1",
         "type": "bar",
         "x": [
          "002F1",
          "003F1",
          "004F1"
         ],
         "xaxis": "x11",
         "y": [
          2,
          7,
          1
         ],
         "yaxis": "y11"
        },
        {
         "marker": {
          "color": "#f9a161"
         },
         "name": "2",
         "type": "bar",
         "x": [
          "002F1",
          "003F1",
          "004F1"
         ],
         "xaxis": "x11",
         "y": [
          1,
          13,
          3
         ],
         "yaxis": "y11"
        },
        {
         "marker": {
          "color": "#a8c163"
         },
         "name": "3",
         "type": "bar",
         "x": [
          "002F1",
          "003F1",
          "004F1"
         ],
         "xaxis": "x11",
         "y": [
          1,
          2,
          0
         ],
         "yaxis": "y11"
        },
        {
         "marker": {
          "color": "#488f31"
         },
         "name": "4",
         "type": "bar",
         "x": [
          "002F1",
          "003F1",
          "004F1"
         ],
         "xaxis": "x11",
         "y": [
          1,
          1,
          0
         ],
         "yaxis": "y11"
        },
        {
         "marker": {
          "color": "#de425b"
         },
         "name": "1",
         "type": "bar",
         "x": [
          "001F1",
          "004F1",
          "005F1",
          "006F1"
         ],
         "xaxis": "x12",
         "y": [
          5,
          5,
          6,
          3
         ],
         "yaxis": "y12"
        },
        {
         "marker": {
          "color": "#f9a161"
         },
         "name": "2",
         "type": "bar",
         "x": [
          "001F1",
          "004F1",
          "005F1",
          "006F1"
         ],
         "xaxis": "x12",
         "y": [
          4,
          9,
          4,
          3
         ],
         "yaxis": "y12"
        },
        {
         "marker": {
          "color": "#a8c163"
         },
         "name": "3",
         "type": "bar",
         "x": [
          "001F1",
          "004F1",
          "005F1",
          "006F1"
         ],
         "xaxis": "x12",
         "y": [
          6,
          4,
          5,
          0
         ],
         "yaxis": "y12"
        },
        {
         "marker": {
          "color": "#488f31"
         },
         "name": "4",
         "type": "bar",
         "x": [
          "001F1",
          "004F1",
          "005F1",
          "006F1"
         ],
         "xaxis": "x12",
         "y": [
          2,
          1,
          0,
          0
         ],
         "yaxis": "y12"
        },
        {
         "marker": {
          "color": "#de425b"
         },
         "name": "1",
         "type": "bar",
         "x": [
          "001F1",
          "002F1",
          "003F1",
          "004F1",
          "005F1",
          "006F1",
          "008F1",
          "009F1",
          "010F1",
          "011F1",
          "012F1",
          "013F1",
          "014F1"
         ],
         "xaxis": "x13",
         "y": [
          8,
          0,
          2,
          5,
          2,
          2,
          9,
          1,
          10,
          3,
          1,
          5,
          0
         ],
         "yaxis": "y13"
        },
        {
         "marker": {
          "color": "#f9a161"
         },
         "name": "2",
         "type": "bar",
         "x": [
          "001F1",
          "002F1",
          "003F1",
          "004F1",
          "005F1",
          "006F1",
          "008F1",
          "009F1",
          "010F1",
          "011F1",
          "012F1",
          "013F1",
          "014F1"
         ],
         "xaxis": "x13",
         "y": [
          14,
          0,
          4,
          1,
          9,
          4,
          5,
          1,
          11,
          2,
          1,
          4,
          8
         ],
         "yaxis": "y13"
        },
        {
         "marker": {
          "color": "#a8c163"
         },
         "name": "3",
         "type": "bar",
         "x": [
          "001F1",
          "002F1",
          "003F1",
          "004F1",
          "005F1",
          "006F1",
          "008F1",
          "009F1",
          "010F1",
          "011F1",
          "012F1",
          "013F1",
          "014F1"
         ],
         "xaxis": "x13",
         "y": [
          9,
          3,
          1,
          0,
          2,
          2,
          6,
          2,
          8,
          0,
          3,
          7,
          2
         ],
         "yaxis": "y13"
        },
        {
         "marker": {
          "color": "#488f31"
         },
         "name": "4",
         "type": "bar",
         "x": [
          "001F1",
          "002F1",
          "003F1",
          "004F1",
          "005F1",
          "006F1",
          "008F1",
          "009F1",
          "010F1",
          "011F1",
          "012F1",
          "013F1",
          "014F1"
         ],
         "xaxis": "x13",
         "y": [
          1,
          0,
          1,
          0,
          0,
          0,
          1,
          0,
          1,
          1,
          0,
          0,
          0
         ],
         "yaxis": "y13"
        },
        {
         "marker": {
          "color": "#de425b"
         },
         "name": "1",
         "type": "bar",
         "x": [
          "001F1"
         ],
         "xaxis": "x14",
         "y": [
          0
         ],
         "yaxis": "y14"
        },
        {
         "marker": {
          "color": "#f9a161"
         },
         "name": "2",
         "type": "bar",
         "x": [
          "001F1"
         ],
         "xaxis": "x14",
         "y": [
          2
         ],
         "yaxis": "y14"
        },
        {
         "marker": {
          "color": "#a8c163"
         },
         "name": "3",
         "type": "bar",
         "x": [
          "001F1"
         ],
         "xaxis": "x14",
         "y": [
          0
         ],
         "yaxis": "y14"
        },
        {
         "marker": {
          "color": "#488f31"
         },
         "name": "4",
         "type": "bar",
         "x": [
          "001F1"
         ],
         "xaxis": "x14",
         "y": [
          0
         ],
         "yaxis": "y14"
        }
       ],
       "layout": {
        "annotations": [
         {
          "font": {
           "size": 16
          },
          "showarrow": false,
          "text": "((VAP    1xG 40056)F1 X SEN  118)F1 X ICTA LIGERO",
          "x": 0.5,
          "xanchor": "center",
          "xref": "paper",
          "y": 1,
          "yanchor": "bottom",
          "yref": "paper"
         },
         {
          "font": {
           "size": 16
          },
          "showarrow": false,
          "text": "((VAP    1xG 40056)F1 X SEN  118)F1 X SEF   10",
          "x": 0.5,
          "xanchor": "center",
          "xref": "paper",
          "y": 0.9260204081632654,
          "yanchor": "bottom",
          "yref": "paper"
         },
         {
          "font": {
           "size": 16
          },
          "showarrow": false,
          "text": "((VAP    1xG 40056)F1 X SEN  118)F1 X SEN  118",
          "x": 0.5,
          "xanchor": "center",
          "xref": "paper",
          "y": 0.8520408163265307,
          "yanchor": "bottom",
          "yref": "paper"
         },
         {
          "font": {
           "size": 16
          },
          "showarrow": false,
          "text": "((VAP    1xG 40056)F1 X SEN  118)F1 X SMR  155",
          "x": 0.5,
          "xanchor": "center",
          "xref": "paper",
          "y": 0.778061224489796,
          "yanchor": "bottom",
          "yref": "paper"
         },
         {
          "font": {
           "size": 16
          },
          "showarrow": false,
          "text": "((VAP    1xG 40287)F1 X ICTA LIGERO)F1 X ICTA LIGERO",
          "x": 0.5,
          "xanchor": "center",
          "xref": "paper",
          "y": 0.7040816326530612,
          "yanchor": "bottom",
          "yref": "paper"
         },
         {
          "font": {
           "size": 16
          },
          "showarrow": false,
          "text": "((VAP    1xG 40287)F1 X ICTA LIGERO)F1 X SEF   10",
          "x": 0.5,
          "xanchor": "center",
          "xref": "paper",
          "y": 0.6301020408163265,
          "yanchor": "bottom",
          "yref": "paper"
         },
         {
          "font": {
           "size": 16
          },
          "showarrow": false,
          "text": "((VAP    1xG 40287)F1 X ICTA LIGERO)F1 X SEN  118",
          "x": 0.5,
          "xanchor": "center",
          "xref": "paper",
          "y": 0.5561224489795918,
          "yanchor": "bottom",
          "yref": "paper"
         },
         {
          "font": {
           "size": 16
          },
          "showarrow": false,
          "text": "((VAP    1xG 40287)F1 X ICTA LIGERO)F1 X SMR  155",
          "x": 0.5,
          "xanchor": "center",
          "xref": "paper",
          "y": 0.4821428571428572,
          "yanchor": "bottom",
          "yref": "paper"
         },
         {
          "font": {
           "size": 16
          },
          "showarrow": false,
          "text": "((VAP    1xG 40287)F1 X SEF   10)F1 X ICTA LIGERO",
          "x": 0.5,
          "xanchor": "center",
          "xref": "paper",
          "y": 0.4081632653061225,
          "yanchor": "bottom",
          "yref": "paper"
         },
         {
          "font": {
           "size": 16
          },
          "showarrow": false,
          "text": "((VAP    1xG 40287)F1 X SEF   10)F1 X SEF   10",
          "x": 0.5,
          "xanchor": "center",
          "xref": "paper",
          "y": 0.33418367346938777,
          "yanchor": "bottom",
          "yref": "paper"
         },
         {
          "font": {
           "size": 16
          },
          "showarrow": false,
          "text": "((VAP    1xG 40287)F1 X SEF   10)F1 X SEN  118",
          "x": 0.5,
          "xanchor": "center",
          "xref": "paper",
          "y": 0.2602040816326531,
          "yanchor": "bottom",
          "yref": "paper"
         },
         {
          "font": {
           "size": 16
          },
          "showarrow": false,
          "text": "((VAP    1xG 40287)F1 X SEF   10)F1 X SMC  214",
          "x": 0.5,
          "xanchor": "center",
          "xref": "paper",
          "y": 0.18622448979591838,
          "yanchor": "bottom",
          "yref": "paper"
         },
         {
          "font": {
           "size": 16
          },
          "showarrow": false,
          "text": "((VAP    1xG 40287)F1 X SEF   10)F1 X SMR  155",
          "x": 0.5,
          "xanchor": "center",
          "xref": "paper",
          "y": 0.11224489795918369,
          "yanchor": "bottom",
          "yref": "paper"
         },
         {
          "font": {
           "size": 16
          },
          "showarrow": false,
          "text": "(VAP    1xG 40287)F1 X SEF   10",
          "x": 0.5,
          "xanchor": "center",
          "xref": "paper",
          "y": 0.03826530612244899,
          "yanchor": "bottom",
          "yref": "paper"
         }
        ],
        "barmode": "stack",
        "height": 2000,
        "showlegend": false,
        "template": {
         "data": {
          "bar": [
           {
            "error_x": {
             "color": "#2a3f5f"
            },
            "error_y": {
             "color": "#2a3f5f"
            },
            "marker": {
             "line": {
              "color": "#E5ECF6",
              "width": 0.5
             }
            },
            "type": "bar"
           }
          ],
          "barpolar": [
           {
            "marker": {
             "line": {
              "color": "#E5ECF6",
              "width": 0.5
             }
            },
            "type": "barpolar"
           }
          ],
          "carpet": [
           {
            "aaxis": {
             "endlinecolor": "#2a3f5f",
             "gridcolor": "white",
             "linecolor": "white",
             "minorgridcolor": "white",
             "startlinecolor": "#2a3f5f"
            },
            "baxis": {
             "endlinecolor": "#2a3f5f",
             "gridcolor": "white",
             "linecolor": "white",
             "minorgridcolor": "white",
             "startlinecolor": "#2a3f5f"
            },
            "type": "carpet"
           }
          ],
          "choropleth": [
           {
            "colorbar": {
             "outlinewidth": 0,
             "ticks": ""
            },
            "type": "choropleth"
           }
          ],
          "contour": [
           {
            "colorbar": {
             "outlinewidth": 0,
             "ticks": ""
            },
            "colorscale": [
             [
              0,
              "#0d0887"
             ],
             [
              0.1111111111111111,
              "#46039f"
             ],
             [
              0.2222222222222222,
              "#7201a8"
             ],
             [
              0.3333333333333333,
              "#9c179e"
             ],
             [
              0.4444444444444444,
              "#bd3786"
             ],
             [
              0.5555555555555556,
              "#d8576b"
             ],
             [
              0.6666666666666666,
              "#ed7953"
             ],
             [
              0.7777777777777778,
              "#fb9f3a"
             ],
             [
              0.8888888888888888,
              "#fdca26"
             ],
             [
              1,
              "#f0f921"
             ]
            ],
            "type": "contour"
           }
          ],
          "contourcarpet": [
           {
            "colorbar": {
             "outlinewidth": 0,
             "ticks": ""
            },
            "type": "contourcarpet"
           }
          ],
          "heatmap": [
           {
            "colorbar": {
             "outlinewidth": 0,
             "ticks": ""
            },
            "colorscale": [
             [
              0,
              "#0d0887"
             ],
             [
              0.1111111111111111,
              "#46039f"
             ],
             [
              0.2222222222222222,
              "#7201a8"
             ],
             [
              0.3333333333333333,
              "#9c179e"
             ],
             [
              0.4444444444444444,
              "#bd3786"
             ],
             [
              0.5555555555555556,
              "#d8576b"
             ],
             [
              0.6666666666666666,
              "#ed7953"
             ],
             [
              0.7777777777777778,
              "#fb9f3a"
             ],
             [
              0.8888888888888888,
              "#fdca26"
             ],
             [
              1,
              "#f0f921"
             ]
            ],
            "type": "heatmap"
           }
          ],
          "heatmapgl": [
           {
            "colorbar": {
             "outlinewidth": 0,
             "ticks": ""
            },
            "colorscale": [
             [
              0,
              "#0d0887"
             ],
             [
              0.1111111111111111,
              "#46039f"
             ],
             [
              0.2222222222222222,
              "#7201a8"
             ],
             [
              0.3333333333333333,
              "#9c179e"
             ],
             [
              0.4444444444444444,
              "#bd3786"
             ],
             [
              0.5555555555555556,
              "#d8576b"
             ],
             [
              0.6666666666666666,
              "#ed7953"
             ],
             [
              0.7777777777777778,
              "#fb9f3a"
             ],
             [
              0.8888888888888888,
              "#fdca26"
             ],
             [
              1,
              "#f0f921"
             ]
            ],
            "type": "heatmapgl"
           }
          ],
          "histogram": [
           {
            "marker": {
             "colorbar": {
              "outlinewidth": 0,
              "ticks": ""
             }
            },
            "type": "histogram"
           }
          ],
          "histogram2d": [
           {
            "colorbar": {
             "outlinewidth": 0,
             "ticks": ""
            },
            "colorscale": [
             [
              0,
              "#0d0887"
             ],
             [
              0.1111111111111111,
              "#46039f"
             ],
             [
              0.2222222222222222,
              "#7201a8"
             ],
             [
              0.3333333333333333,
              "#9c179e"
             ],
             [
              0.4444444444444444,
              "#bd3786"
             ],
             [
              0.5555555555555556,
              "#d8576b"
             ],
             [
              0.6666666666666666,
              "#ed7953"
             ],
             [
              0.7777777777777778,
              "#fb9f3a"
             ],
             [
              0.8888888888888888,
              "#fdca26"
             ],
             [
              1,
              "#f0f921"
             ]
            ],
            "type": "histogram2d"
           }
          ],
          "histogram2dcontour": [
           {
            "colorbar": {
             "outlinewidth": 0,
             "ticks": ""
            },
            "colorscale": [
             [
              0,
              "#0d0887"
             ],
             [
              0.1111111111111111,
              "#46039f"
             ],
             [
              0.2222222222222222,
              "#7201a8"
             ],
             [
              0.3333333333333333,
              "#9c179e"
             ],
             [
              0.4444444444444444,
              "#bd3786"
             ],
             [
              0.5555555555555556,
              "#d8576b"
             ],
             [
              0.6666666666666666,
              "#ed7953"
             ],
             [
              0.7777777777777778,
              "#fb9f3a"
             ],
             [
              0.8888888888888888,
              "#fdca26"
             ],
             [
              1,
              "#f0f921"
             ]
            ],
            "type": "histogram2dcontour"
           }
          ],
          "mesh3d": [
           {
            "colorbar": {
             "outlinewidth": 0,
             "ticks": ""
            },
            "type": "mesh3d"
           }
          ],
          "parcoords": [
           {
            "line": {
             "colorbar": {
              "outlinewidth": 0,
              "ticks": ""
             }
            },
            "type": "parcoords"
           }
          ],
          "pie": [
           {
            "automargin": true,
            "type": "pie"
           }
          ],
          "scatter": [
           {
            "marker": {
             "colorbar": {
              "outlinewidth": 0,
              "ticks": ""
             }
            },
            "type": "scatter"
           }
          ],
          "scatter3d": [
           {
            "line": {
             "colorbar": {
              "outlinewidth": 0,
              "ticks": ""
             }
            },
            "marker": {
             "colorbar": {
              "outlinewidth": 0,
              "ticks": ""
             }
            },
            "type": "scatter3d"
           }
          ],
          "scattercarpet": [
           {
            "marker": {
             "colorbar": {
              "outlinewidth": 0,
              "ticks": ""
             }
            },
            "type": "scattercarpet"
           }
          ],
          "scattergeo": [
           {
            "marker": {
             "colorbar": {
              "outlinewidth": 0,
              "ticks": ""
             }
            },
            "type": "scattergeo"
           }
          ],
          "scattergl": [
           {
            "marker": {
             "colorbar": {
              "outlinewidth": 0,
              "ticks": ""
             }
            },
            "type": "scattergl"
           }
          ],
          "scattermapbox": [
           {
            "marker": {
             "colorbar": {
              "outlinewidth": 0,
              "ticks": ""
             }
            },
            "type": "scattermapbox"
           }
          ],
          "scatterpolar": [
           {
            "marker": {
             "colorbar": {
              "outlinewidth": 0,
              "ticks": ""
             }
            },
            "type": "scatterpolar"
           }
          ],
          "scatterpolargl": [
           {
            "marker": {
             "colorbar": {
              "outlinewidth": 0,
              "ticks": ""
             }
            },
            "type": "scatterpolargl"
           }
          ],
          "scatterternary": [
           {
            "marker": {
             "colorbar": {
              "outlinewidth": 0,
              "ticks": ""
             }
            },
            "type": "scatterternary"
           }
          ],
          "surface": [
           {
            "colorbar": {
             "outlinewidth": 0,
             "ticks": ""
            },
            "colorscale": [
             [
              0,
              "#0d0887"
             ],
             [
              0.1111111111111111,
              "#46039f"
             ],
             [
              0.2222222222222222,
              "#7201a8"
             ],
             [
              0.3333333333333333,
              "#9c179e"
             ],
             [
              0.4444444444444444,
              "#bd3786"
             ],
             [
              0.5555555555555556,
              "#d8576b"
             ],
             [
              0.6666666666666666,
              "#ed7953"
             ],
             [
              0.7777777777777778,
              "#fb9f3a"
             ],
             [
              0.8888888888888888,
              "#fdca26"
             ],
             [
              1,
              "#f0f921"
             ]
            ],
            "type": "surface"
           }
          ],
          "table": [
           {
            "cells": {
             "fill": {
              "color": "#EBF0F8"
             },
             "line": {
              "color": "white"
             }
            },
            "header": {
             "fill": {
              "color": "#C8D4E3"
             },
             "line": {
              "color": "white"
             }
            },
            "type": "table"
           }
          ]
         },
         "layout": {
          "annotationdefaults": {
           "arrowcolor": "#2a3f5f",
           "arrowhead": 0,
           "arrowwidth": 1
          },
          "coloraxis": {
           "colorbar": {
            "outlinewidth": 0,
            "ticks": ""
           }
          },
          "colorscale": {
           "diverging": [
            [
             0,
             "#8e0152"
            ],
            [
             0.1,
             "#c51b7d"
            ],
            [
             0.2,
             "#de77ae"
            ],
            [
             0.3,
             "#f1b6da"
            ],
            [
             0.4,
             "#fde0ef"
            ],
            [
             0.5,
             "#f7f7f7"
            ],
            [
             0.6,
             "#e6f5d0"
            ],
            [
             0.7,
             "#b8e186"
            ],
            [
             0.8,
             "#7fbc41"
            ],
            [
             0.9,
             "#4d9221"
            ],
            [
             1,
             "#276419"
            ]
           ],
           "sequential": [
            [
             0,
             "#0d0887"
            ],
            [
             0.1111111111111111,
             "#46039f"
            ],
            [
             0.2222222222222222,
             "#7201a8"
            ],
            [
             0.3333333333333333,
             "#9c179e"
            ],
            [
             0.4444444444444444,
             "#bd3786"
            ],
            [
             0.5555555555555556,
             "#d8576b"
            ],
            [
             0.6666666666666666,
             "#ed7953"
            ],
            [
             0.7777777777777778,
             "#fb9f3a"
            ],
            [
             0.8888888888888888,
             "#fdca26"
            ],
            [
             1,
             "#f0f921"
            ]
           ],
           "sequentialminus": [
            [
             0,
             "#0d0887"
            ],
            [
             0.1111111111111111,
             "#46039f"
            ],
            [
             0.2222222222222222,
             "#7201a8"
            ],
            [
             0.3333333333333333,
             "#9c179e"
            ],
            [
             0.4444444444444444,
             "#bd3786"
            ],
            [
             0.5555555555555556,
             "#d8576b"
            ],
            [
             0.6666666666666666,
             "#ed7953"
            ],
            [
             0.7777777777777778,
             "#fb9f3a"
            ],
            [
             0.8888888888888888,
             "#fdca26"
            ],
            [
             1,
             "#f0f921"
            ]
           ]
          },
          "colorway": [
           "#636efa",
           "#EF553B",
           "#00cc96",
           "#ab63fa",
           "#FFA15A",
           "#19d3f3",
           "#FF6692",
           "#B6E880",
           "#FF97FF",
           "#FECB52"
          ],
          "font": {
           "color": "#2a3f5f"
          },
          "geo": {
           "bgcolor": "white",
           "lakecolor": "white",
           "landcolor": "#E5ECF6",
           "showlakes": true,
           "showland": true,
           "subunitcolor": "white"
          },
          "hoverlabel": {
           "align": "left"
          },
          "hovermode": "closest",
          "mapbox": {
           "style": "light"
          },
          "paper_bgcolor": "white",
          "plot_bgcolor": "#E5ECF6",
          "polar": {
           "angularaxis": {
            "gridcolor": "white",
            "linecolor": "white",
            "ticks": ""
           },
           "bgcolor": "#E5ECF6",
           "radialaxis": {
            "gridcolor": "white",
            "linecolor": "white",
            "ticks": ""
           }
          },
          "scene": {
           "xaxis": {
            "backgroundcolor": "#E5ECF6",
            "gridcolor": "white",
            "gridwidth": 2,
            "linecolor": "white",
            "showbackground": true,
            "ticks": "",
            "zerolinecolor": "white"
           },
           "yaxis": {
            "backgroundcolor": "#E5ECF6",
            "gridcolor": "white",
            "gridwidth": 2,
            "linecolor": "white",
            "showbackground": true,
            "ticks": "",
            "zerolinecolor": "white"
           },
           "zaxis": {
            "backgroundcolor": "#E5ECF6",
            "gridcolor": "white",
            "gridwidth": 2,
            "linecolor": "white",
            "showbackground": true,
            "ticks": "",
            "zerolinecolor": "white"
           }
          },
          "shapedefaults": {
           "line": {
            "color": "#2a3f5f"
           }
          },
          "ternary": {
           "aaxis": {
            "gridcolor": "white",
            "linecolor": "white",
            "ticks": ""
           },
           "baxis": {
            "gridcolor": "white",
            "linecolor": "white",
            "ticks": ""
           },
           "bgcolor": "#E5ECF6",
           "caxis": {
            "gridcolor": "white",
            "linecolor": "white",
            "ticks": ""
           }
          },
          "title": {
           "x": 0.05
          },
          "xaxis": {
           "automargin": true,
           "gridcolor": "white",
           "linecolor": "white",
           "ticks": "",
           "title": {
            "standoff": 15
           },
           "zerolinecolor": "white",
           "zerolinewidth": 2
          },
          "yaxis": {
           "automargin": true,
           "gridcolor": "white",
           "linecolor": "white",
           "ticks": "",
           "title": {
            "standoff": 15
           },
           "zerolinecolor": "white",
           "zerolinewidth": 2
          }
         }
        },
        "width": 700,
        "xaxis": {
         "anchor": "y",
         "autorange": true,
         "categoryorder": "total descending",
         "domain": [
          0,
          1
         ],
         "range": [
          -0.5,
          3.5
         ],
         "type": "category"
        },
        "xaxis10": {
         "anchor": "y10",
         "autorange": true,
         "domain": [
          0,
          1
         ],
         "range": [
          -0.5,
          2.5
         ],
         "type": "category"
        },
        "xaxis11": {
         "anchor": "y11",
         "autorange": true,
         "domain": [
          0,
          1
         ],
         "range": [
          -0.5,
          2.5
         ],
         "type": "category"
        },
        "xaxis12": {
         "anchor": "y12",
         "autorange": true,
         "domain": [
          0,
          1
         ],
         "range": [
          -0.5,
          3.5
         ],
         "type": "category"
        },
        "xaxis13": {
         "anchor": "y13",
         "autorange": true,
         "domain": [
          0,
          1
         ],
         "range": [
          -0.5,
          12.5
         ],
         "type": "category"
        },
        "xaxis14": {
         "anchor": "y14",
         "autorange": true,
         "domain": [
          0,
          1
         ],
         "range": [
          -0.5,
          0.5
         ],
         "type": "category"
        },
        "xaxis2": {
         "anchor": "y2",
         "autorange": true,
         "domain": [
          0,
          1
         ],
         "range": [
          -0.5,
          4.5
         ],
         "type": "category"
        },
        "xaxis3": {
         "anchor": "y3",
         "autorange": true,
         "domain": [
          0,
          1
         ],
         "range": [
          -0.5,
          1.5
         ],
         "type": "category"
        },
        "xaxis4": {
         "anchor": "y4",
         "autorange": true,
         "domain": [
          0,
          1
         ],
         "range": [
          -0.5,
          2.5
         ],
         "type": "category"
        },
        "xaxis5": {
         "anchor": "y5",
         "autorange": true,
         "domain": [
          0,
          1
         ],
         "range": [
          -0.5,
          0.5
         ],
         "type": "category"
        },
        "xaxis6": {
         "anchor": "y6",
         "autorange": true,
         "domain": [
          0,
          1
         ],
         "range": [
          -0.5,
          0.5
         ],
         "type": "category"
        },
        "xaxis7": {
         "anchor": "y7",
         "autorange": true,
         "domain": [
          0,
          1
         ],
         "range": [
          -0.5,
          1.5
         ],
         "type": "category"
        },
        "xaxis8": {
         "anchor": "y8",
         "autorange": true,
         "domain": [
          0,
          1
         ],
         "range": [
          -0.5,
          0.5
         ],
         "type": "category"
        },
        "xaxis9": {
         "anchor": "y9",
         "autorange": true,
         "domain": [
          0,
          1
         ],
         "range": [
          -0.5,
          6.5
         ],
         "type": "category"
        },
        "yaxis": {
         "anchor": "x",
         "autorange": true,
         "domain": [
          0.9617346938775511,
          1
         ],
         "range": [
          0,
          10.526315789473685
         ],
         "type": "linear"
        },
        "yaxis10": {
         "anchor": "x10",
         "autorange": true,
         "domain": [
          0.29591836734693877,
          0.33418367346938777
         ],
         "range": [
          0,
          26.315789473684212
         ],
         "type": "linear"
        },
        "yaxis11": {
         "anchor": "x11",
         "autorange": true,
         "domain": [
          0.22193877551020408,
          0.2602040816326531
         ],
         "range": [
          0,
          24.210526315789473
         ],
         "type": "linear"
        },
        "yaxis12": {
         "anchor": "x12",
         "autorange": true,
         "domain": [
          0.14795918367346939,
          0.18622448979591838
         ],
         "range": [
          0,
          20
         ],
         "type": "linear"
        },
        "yaxis13": {
         "anchor": "x13",
         "autorange": true,
         "domain": [
          0.07397959183673469,
          0.11224489795918369
         ],
         "range": [
          0,
          33.68421052631579
         ],
         "type": "linear"
        },
        "yaxis14": {
         "anchor": "x14",
         "autorange": true,
         "domain": [
          0,
          0.03826530612244899
         ],
         "range": [
          0,
          2.1052631578947367
         ],
         "type": "linear"
        },
        "yaxis2": {
         "anchor": "x2",
         "autorange": true,
         "domain": [
          0.8877551020408164,
          0.9260204081632654
         ],
         "range": [
          0,
          35.78947368421053
         ],
         "type": "linear"
        },
        "yaxis3": {
         "anchor": "x3",
         "autorange": true,
         "domain": [
          0.8137755102040818,
          0.8520408163265307
         ],
         "range": [
          0,
          40
         ],
         "type": "linear"
        },
        "yaxis4": {
         "anchor": "x4",
         "autorange": true,
         "domain": [
          0.739795918367347,
          0.778061224489796
         ],
         "range": [
          0,
          93.6842105263158
         ],
         "type": "linear"
        },
        "yaxis5": {
         "anchor": "x5",
         "autorange": true,
         "domain": [
          0.6658163265306123,
          0.7040816326530612
         ],
         "range": [
          0,
          9.473684210526315
         ],
         "type": "linear"
        },
        "yaxis6": {
         "anchor": "x6",
         "autorange": true,
         "domain": [
          0.5918367346938775,
          0.6301020408163265
         ],
         "range": [
          0,
          26.31578947368421
         ],
         "type": "linear"
        },
        "yaxis7": {
         "anchor": "x7",
         "autorange": true,
         "domain": [
          0.5178571428571429,
          0.5561224489795918
         ],
         "range": [
          0,
          3.1578947368421053
         ],
         "type": "linear"
        },
        "yaxis8": {
         "anchor": "x8",
         "autorange": true,
         "domain": [
          0.4438775510204082,
          0.4821428571428572
         ],
         "range": [
          0,
          3.1578947368421053
         ],
         "type": "linear"
        },
        "yaxis9": {
         "anchor": "x9",
         "autorange": true,
         "domain": [
          0.3698979591836735,
          0.4081632653061225
         ],
         "range": [
          0,
          98.94736842105263
         ],
         "type": "linear"
        }
       }
      },
      "image/png": "[encoded data removed]",
      "text/html": [
       "<div>\n",
       "        \n",
       "        \n",
       "            <div id=\"a37d4960-7aac-4daf-9a42-734aefabdcdb\" class=\"plotly-graph-div\" style=\"height:2000px; width:700px;\"></div>\n",
       "            <script type=\"text/javascript\">\n",
       "                require([\"plotly\"], function(Plotly) {\n",
       "                    window.PLOTLYENV=window.PLOTLYENV || {};\n",
       "                    \n",
       "                if (document.getElementById(\"a37d4960-7aac-4daf-9a42-734aefabdcdb\")) {\n",
       "                    Plotly.newPlot(\n",
       "                        'a37d4960-7aac-4daf-9a42-734aefabdcdb',\n",
       "                        [{\"marker\": {\"color\": \"#de425b\"}, \"name\": \"1\", \"type\": \"bar\", \"x\": [\"001F1\", \"002F1\", \"003F1\", \"004F1\"], \"xaxis\": \"x\", \"y\": [2, 0, 2, 2], \"yaxis\": \"y\"}, {\"marker\": {\"color\": \"#f9a161\"}, \"name\": \"2\", \"type\": \"bar\", \"x\": [\"001F1\", \"002F1\", \"003F1\", \"004F1\"], \"xaxis\": \"x\", \"y\": [5, 2, 3, 1], \"yaxis\": \"y\"}, {\"marker\": {\"color\": \"#a8c163\"}, \"name\": \"3\", \"type\": \"bar\", \"x\": [\"001F1\", \"002F1\", \"003F1\", \"004F1\"], \"xaxis\": \"x\", \"y\": [2, 3, 2, 4], \"yaxis\": \"y\"}, {\"marker\": {\"color\": \"#488f31\"}, \"name\": \"4\", \"type\": \"bar\", \"x\": [\"001F1\", \"002F1\", \"003F1\", \"004F1\"], \"xaxis\": \"x\", \"y\": [1, 0, 0, 1], \"yaxis\": \"y\"}, {\"marker\": {\"color\": \"#de425b\"}, \"name\": \"1\", \"type\": \"bar\", \"x\": [\"001F1\", \"002F1\", \"003F1\", \"004F1\", \"005F1\"], \"xaxis\": \"x2\", \"y\": [3, 4, 6, 8, 4], \"yaxis\": \"y2\"}, {\"marker\": {\"color\": \"#f9a161\"}, \"name\": \"2\", \"type\": \"bar\", \"x\": [\"001F1\", \"002F1\", \"003F1\", \"004F1\", \"005F1\"], \"xaxis\": \"x2\", \"y\": [13, 12, 6, 15, 8], \"yaxis\": \"y2\"}, {\"marker\": {\"color\": \"#a8c163\"}, \"name\": \"3\", \"type\": \"bar\", \"x\": [\"001F1\", \"002F1\", \"003F1\", \"004F1\", \"005F1\"], \"xaxis\": \"x2\", \"y\": [12, 1, 3, 9, 11], \"yaxis\": \"y2\"}, {\"marker\": {\"color\": \"#488f31\"}, \"name\": \"4\", \"type\": \"bar\", \"x\": [\"001F1\", \"002F1\", \"003F1\", \"004F1\", \"005F1\"], \"xaxis\": \"x2\", \"y\": [0, 0, 2, 2, 0], \"yaxis\": \"y2\"}, {\"marker\": {\"color\": \"#de425b\"}, \"name\": \"1\", \"type\": \"bar\", \"x\": [\"001F1\", \"002F1\"], \"xaxis\": \"x3\", \"y\": [8, 2], \"yaxis\": \"y3\"}, {\"marker\": {\"color\": \"#f9a161\"}, \"name\": \"2\", \"type\": \"bar\", \"x\": [\"001F1\", \"002F1\"], \"xaxis\": \"x3\", \"y\": [23, 6], \"yaxis\": \"y3\"}, {\"marker\": {\"color\": \"#a8c163\"}, \"name\": \"3\", \"type\": \"bar\", \"x\": [\"001F1\", \"002F1\"], \"xaxis\": \"x3\", \"y\": [6, 5], \"yaxis\": \"y3\"}, {\"marker\": {\"color\": \"#488f31\"}, \"name\": \"4\", \"type\": \"bar\", \"x\": [\"001F1\", \"002F1\"], \"xaxis\": \"x3\", \"y\": [1, 1], \"yaxis\": \"y3\"}, {\"marker\": {\"color\": \"#de425b\"}, \"name\": \"1\", \"type\": \"bar\", \"x\": [\"001F1\", \"002F1\", \"003F1\"], \"xaxis\": \"x4\", \"y\": [22, 10, 6], \"yaxis\": \"y4\"}, {\"marker\": {\"color\": \"#f9a161\"}, \"name\": \"2\", \"type\": \"bar\", \"x\": [\"001F1\", \"002F1\", \"003F1\"], \"xaxis\": \"x4\", \"y\": [35, 15, 18], \"yaxis\": \"y4\"}, {\"marker\": {\"color\": \"#a8c163\"}, \"name\": \"3\", \"type\": \"bar\", \"x\": [\"001F1\", \"002F1\", \"003F1\"], \"xaxis\": \"x4\", \"y\": [25, 18, 26], \"yaxis\": \"y4\"}, {\"marker\": {\"color\": \"#488f31\"}, \"name\": \"4\", \"type\": \"bar\", \"x\": [\"001F1\", \"002F1\", \"003F1\"], \"xaxis\": \"x4\", \"y\": [7, 3, 5], \"yaxis\": \"y4\"}, {\"marker\": {\"color\": \"#de425b\"}, \"name\": \"1\", \"type\": \"bar\", \"x\": [\"001F1\"], \"xaxis\": \"x5\", \"y\": [4], \"yaxis\": \"y5\"}, {\"marker\": {\"color\": \"#f9a161\"}, \"name\": \"2\", \"type\": \"bar\", \"x\": [\"001F1\"], \"xaxis\": \"x5\", \"y\": [4], \"yaxis\": \"y5\"}, {\"marker\": {\"color\": \"#a8c163\"}, \"name\": \"3\", \"type\": \"bar\", \"x\": [\"001F1\"], \"xaxis\": \"x5\", \"y\": [0], \"yaxis\": \"y5\"}, {\"marker\": {\"color\": \"#488f31\"}, \"name\": \"4\", \"type\": \"bar\", \"x\": [\"001F1\"], \"xaxis\": \"x5\", \"y\": [1], \"yaxis\": \"y5\"}, {\"marker\": {\"color\": \"#de425b\"}, \"name\": \"1\", \"type\": \"bar\", \"x\": [\"002F1\"], \"xaxis\": \"x6\", \"y\": [5], \"yaxis\": \"y6\"}, {\"marker\": {\"color\": \"#f9a161\"}, \"name\": \"2\", \"type\": \"bar\", \"x\": [\"002F1\"], \"xaxis\": \"x6\", \"y\": [13], \"yaxis\": \"y6\"}, {\"marker\": {\"color\": \"#a8c163\"}, \"name\": \"3\", \"type\": \"bar\", \"x\": [\"002F1\"], \"xaxis\": \"x6\", \"y\": [5], \"yaxis\": \"y6\"}, {\"marker\": {\"color\": \"#488f31\"}, \"name\": \"4\", \"type\": \"bar\", \"x\": [\"002F1\"], \"xaxis\": \"x6\", \"y\": [2], \"yaxis\": \"y6\"}, {\"marker\": {\"color\": \"#de425b\"}, \"name\": \"1\", \"type\": \"bar\", \"x\": [\"002F1\", \"004F1\"], \"xaxis\": \"x7\", \"y\": [2, 2], \"yaxis\": \"y7\"}, {\"marker\": {\"color\": \"#f9a161\"}, \"name\": \"2\", \"type\": \"bar\", \"x\": [\"002F1\", \"004F1\"], \"xaxis\": \"x7\", \"y\": [1, 1], \"yaxis\": \"y7\"}, {\"marker\": {\"color\": \"#a8c163\"}, \"name\": \"3\", \"type\": \"bar\", \"x\": [\"002F1\", \"004F1\"], \"xaxis\": \"x7\", \"y\": [0, 0], \"yaxis\": \"y7\"}, {\"marker\": {\"color\": \"#488f31\"}, \"name\": \"4\", \"type\": \"bar\", \"x\": [\"002F1\", \"004F1\"], \"xaxis\": \"x7\", \"y\": [0, 0], \"yaxis\": \"y7\"}, {\"marker\": {\"color\": \"#de425b\"}, \"name\": \"1\", \"type\": \"bar\", \"x\": [\"003F1\"], \"xaxis\": \"x8\", \"y\": [1], \"yaxis\": \"y8\"}, {\"marker\": {\"color\": \"#f9a161\"}, \"name\": \"2\", \"type\": \"bar\", \"x\": [\"003F1\"], \"xaxis\": \"x8\", \"y\": [2], \"yaxis\": \"y8\"}, {\"marker\": {\"color\": \"#a8c163\"}, \"name\": \"3\", \"type\": \"bar\", \"x\": [\"003F1\"], \"xaxis\": \"x8\", \"y\": [0], \"yaxis\": \"y8\"}, {\"marker\": {\"color\": \"#488f31\"}, \"name\": \"4\", \"type\": \"bar\", \"x\": [\"003F1\"], \"xaxis\": \"x8\", \"y\": [0], \"yaxis\": \"y8\"}, {\"marker\": {\"color\": \"#de425b\"}, \"name\": \"1\", \"type\": \"bar\", \"x\": [\"001F1\", \"002F1\", \"003F1\", \"004F1\", \"005F1\", \"007F1\", \"008F1\"], \"xaxis\": \"x9\", \"y\": [4, 2, 4, 4, 8, 0, 19], \"yaxis\": \"y9\"}, {\"marker\": {\"color\": \"#f9a161\"}, \"name\": \"2\", \"type\": \"bar\", \"x\": [\"001F1\", \"002F1\", \"003F1\", \"004F1\", \"005F1\", \"007F1\", \"008F1\"], \"xaxis\": \"x9\", \"y\": [2, 1, 6, 9, 8, 0, 39], \"yaxis\": \"y9\"}, {\"marker\": {\"color\": \"#a8c163\"}, \"name\": \"3\", \"type\": \"bar\", \"x\": [\"001F1\", \"002F1\", \"003F1\", \"004F1\", \"005F1\", \"007F1\", \"008F1\"], \"xaxis\": \"x9\", \"y\": [0, 0, 3, 13, 4, 3, 34], \"yaxis\": \"y9\"}, {\"marker\": {\"color\": \"#488f31\"}, \"name\": \"4\", \"type\": \"bar\", \"x\": [\"001F1\", \"002F1\", \"003F1\", \"004F1\", \"005F1\", \"007F1\", \"008F1\"], \"xaxis\": \"x9\", \"y\": [0, 0, 0, 3, 0, 1, 2], \"yaxis\": \"y9\"}, {\"marker\": {\"color\": \"#de425b\"}, \"name\": \"1\", \"type\": \"bar\", \"x\": [\"001F1\", \"002F1\", \"003F1\"], \"xaxis\": \"x10\", \"y\": [0, 2, 7], \"yaxis\": \"y10\"}, {\"marker\": {\"color\": \"#f9a161\"}, \"name\": \"2\", \"type\": \"bar\", \"x\": [\"001F1\", \"002F1\", \"003F1\"], \"xaxis\": \"x10\", \"y\": [3, 2, 11], \"yaxis\": \"y10\"}, {\"marker\": {\"color\": \"#a8c163\"}, \"name\": \"3\", \"type\": \"bar\", \"x\": [\"001F1\", \"002F1\", \"003F1\"], \"xaxis\": \"x10\", \"y\": [2, 1, 7], \"yaxis\": \"y10\"}, {\"marker\": {\"color\": \"#488f31\"}, \"name\": \"4\", \"type\": \"bar\", \"x\": [\"001F1\", \"002F1\", \"003F1\"], \"xaxis\": \"x10\", \"y\": [0, 0, 0], \"yaxis\": \"y10\"}, {\"marker\": {\"color\": \"#de425b\"}, \"name\": \"1\", \"type\": \"bar\", \"x\": [\"002F1\", \"003F1\", \"004F1\"], \"xaxis\": \"x11\", \"y\": [2, 7, 1], \"yaxis\": \"y11\"}, {\"marker\": {\"color\": \"#f9a161\"}, \"name\": \"2\", \"type\": \"bar\", \"x\": [\"002F1\", \"003F1\", \"004F1\"], \"xaxis\": \"x11\", \"y\": [1, 13, 3], \"yaxis\": \"y11\"}, {\"marker\": {\"color\": \"#a8c163\"}, \"name\": \"3\", \"type\": \"bar\", \"x\": [\"002F1\", \"003F1\", \"004F1\"], \"xaxis\": \"x11\", \"y\": [1, 2, 0], \"yaxis\": \"y11\"}, {\"marker\": {\"color\": \"#488f31\"}, \"name\": \"4\", \"type\": \"bar\", \"x\": [\"002F1\", \"003F1\", \"004F1\"], \"xaxis\": \"x11\", \"y\": [1, 1, 0], \"yaxis\": \"y11\"}, {\"marker\": {\"color\": \"#de425b\"}, \"name\": \"1\", \"type\": \"bar\", \"x\": [\"001F1\", \"004F1\", \"005F1\", \"006F1\"], \"xaxis\": \"x12\", \"y\": [5, 5, 6, 3], \"yaxis\": \"y12\"}, {\"marker\": {\"color\": \"#f9a161\"}, \"name\": \"2\", \"type\": \"bar\", \"x\": [\"001F1\", \"004F1\", \"005F1\", \"006F1\"], \"xaxis\": \"x12\", \"y\": [4, 9, 4, 3], \"yaxis\": \"y12\"}, {\"marker\": {\"color\": \"#a8c163\"}, \"name\": \"3\", \"type\": \"bar\", \"x\": [\"001F1\", \"004F1\", \"005F1\", \"006F1\"], \"xaxis\": \"x12\", \"y\": [6, 4, 5, 0], \"yaxis\": \"y12\"}, {\"marker\": {\"color\": \"#488f31\"}, \"name\": \"4\", \"type\": \"bar\", \"x\": [\"001F1\", \"004F1\", \"005F1\", \"006F1\"], \"xaxis\": \"x12\", \"y\": [2, 1, 0, 0], \"yaxis\": \"y12\"}, {\"marker\": {\"color\": \"#de425b\"}, \"name\": \"1\", \"type\": \"bar\", \"x\": [\"001F1\", \"002F1\", \"003F1\", \"004F1\", \"005F1\", \"006F1\", \"008F1\", \"009F1\", \"010F1\", \"011F1\", \"012F1\", \"013F1\", \"014F1\"], \"xaxis\": \"x13\", \"y\": [8, 0, 2, 5, 2, 2, 9, 1, 10, 3, 1, 5, 0], \"yaxis\": \"y13\"}, {\"marker\": {\"color\": \"#f9a161\"}, \"name\": \"2\", \"type\": \"bar\", \"x\": [\"001F1\", \"002F1\", \"003F1\", \"004F1\", \"005F1\", \"006F1\", \"008F1\", \"009F1\", \"010F1\", \"011F1\", \"012F1\", \"013F1\", \"014F1\"], \"xaxis\": \"x13\", \"y\": [14, 0, 4, 1, 9, 4, 5, 1, 11, 2, 1, 4, 8], \"yaxis\": \"y13\"}, {\"marker\": {\"color\": \"#a8c163\"}, \"name\": \"3\", \"type\": \"bar\", \"x\": [\"001F1\", \"002F1\", \"003F1\", \"004F1\", \"005F1\", \"006F1\", \"008F1\", \"009F1\", \"010F1\", \"011F1\", \"012F1\", \"013F1\", \"014F1\"], \"xaxis\": \"x13\", \"y\": [9, 3, 1, 0, 2, 2, 6, 2, 8, 0, 3, 7, 2], \"yaxis\": \"y13\"}, {\"marker\": {\"color\": \"#488f31\"}, \"name\": \"4\", \"type\": \"bar\", \"x\": [\"001F1\", \"002F1\", \"003F1\", \"004F1\", \"005F1\", \"006F1\", \"008F1\", \"009F1\", \"010F1\", \"011F1\", \"012F1\", \"013F1\", \"014F1\"], \"xaxis\": \"x13\", \"y\": [1, 0, 1, 0, 0, 0, 1, 0, 1, 1, 0, 0, 0], \"yaxis\": \"y13\"}, {\"marker\": {\"color\": \"#de425b\"}, \"name\": \"1\", \"type\": \"bar\", \"x\": [\"001F1\"], \"xaxis\": \"x14\", \"y\": [0], \"yaxis\": \"y14\"}, {\"marker\": {\"color\": \"#f9a161\"}, \"name\": \"2\", \"type\": \"bar\", \"x\": [\"001F1\"], \"xaxis\": \"x14\", \"y\": [2], \"yaxis\": \"y14\"}, {\"marker\": {\"color\": \"#a8c163\"}, \"name\": \"3\", \"type\": \"bar\", \"x\": [\"001F1\"], \"xaxis\": \"x14\", \"y\": [0], \"yaxis\": \"y14\"}, {\"marker\": {\"color\": \"#488f31\"}, \"name\": \"4\", \"type\": \"bar\", \"x\": [\"001F1\"], \"xaxis\": \"x14\", \"y\": [0], \"yaxis\": \"y14\"}],\n",
       "                        {\"annotations\": [{\"font\": {\"size\": 16}, \"showarrow\": false, \"text\": \"((VAP    1xG 40056)F1 X SEN  118)F1 X ICTA LIGERO\", \"x\": 0.5, \"xanchor\": \"center\", \"xref\": \"paper\", \"y\": 1.0, \"yanchor\": \"bottom\", \"yref\": \"paper\"}, {\"font\": {\"size\": 16}, \"showarrow\": false, \"text\": \"((VAP    1xG 40056)F1 X SEN  118)F1 X SEF   10\", \"x\": 0.5, \"xanchor\": \"center\", \"xref\": \"paper\", \"y\": 0.9260204081632654, \"yanchor\": \"bottom\", \"yref\": \"paper\"}, {\"font\": {\"size\": 16}, \"showarrow\": false, \"text\": \"((VAP    1xG 40056)F1 X SEN  118)F1 X SEN  118\", \"x\": 0.5, \"xanchor\": \"center\", \"xref\": \"paper\", \"y\": 0.8520408163265307, \"yanchor\": \"bottom\", \"yref\": \"paper\"}, {\"font\": {\"size\": 16}, \"showarrow\": false, \"text\": \"((VAP    1xG 40056)F1 X SEN  118)F1 X SMR  155\", \"x\": 0.5, \"xanchor\": \"center\", \"xref\": \"paper\", \"y\": 0.778061224489796, \"yanchor\": \"bottom\", \"yref\": \"paper\"}, {\"font\": {\"size\": 16}, \"showarrow\": false, \"text\": \"((VAP    1xG 40287)F1 X ICTA LIGERO)F1 X ICTA LIGERO\", \"x\": 0.5, \"xanchor\": \"center\", \"xref\": \"paper\", \"y\": 0.7040816326530612, \"yanchor\": \"bottom\", \"yref\": \"paper\"}, {\"font\": {\"size\": 16}, \"showarrow\": false, \"text\": \"((VAP    1xG 40287)F1 X ICTA LIGERO)F1 X SEF   10\", \"x\": 0.5, \"xanchor\": \"center\", \"xref\": \"paper\", \"y\": 0.6301020408163265, \"yanchor\": \"bottom\", \"yref\": \"paper\"}, {\"font\": {\"size\": 16}, \"showarrow\": false, \"text\": \"((VAP    1xG 40287)F1 X ICTA LIGERO)F1 X SEN  118\", \"x\": 0.5, \"xanchor\": \"center\", \"xref\": \"paper\", \"y\": 0.5561224489795918, \"yanchor\": \"bottom\", \"yref\": \"paper\"}, {\"font\": {\"size\": 16}, \"showarrow\": false, \"text\": \"((VAP    1xG 40287)F1 X ICTA LIGERO)F1 X SMR  155\", \"x\": 0.5, \"xanchor\": \"center\", \"xref\": \"paper\", \"y\": 0.4821428571428572, \"yanchor\": \"bottom\", \"yref\": \"paper\"}, {\"font\": {\"size\": 16}, \"showarrow\": false, \"text\": \"((VAP    1xG 40287)F1 X SEF   10)F1 X ICTA LIGERO\", \"x\": 0.5, \"xanchor\": \"center\", \"xref\": \"paper\", \"y\": 0.4081632653061225, \"yanchor\": \"bottom\", \"yref\": \"paper\"}, {\"font\": {\"size\": 16}, \"showarrow\": false, \"text\": \"((VAP    1xG 40287)F1 X SEF   10)F1 X SEF   10\", \"x\": 0.5, \"xanchor\": \"center\", \"xref\": \"paper\", \"y\": 0.33418367346938777, \"yanchor\": \"bottom\", \"yref\": \"paper\"}, {\"font\": {\"size\": 16}, \"showarrow\": false, \"text\": \"((VAP    1xG 40287)F1 X SEF   10)F1 X SEN  118\", \"x\": 0.5, \"xanchor\": \"center\", \"xref\": \"paper\", \"y\": 0.2602040816326531, \"yanchor\": \"bottom\", \"yref\": \"paper\"}, {\"font\": {\"size\": 16}, \"showarrow\": false, \"text\": \"((VAP    1xG 40287)F1 X SEF   10)F1 X SMC  214\", \"x\": 0.5, \"xanchor\": \"center\", \"xref\": \"paper\", \"y\": 0.18622448979591838, \"yanchor\": \"bottom\", \"yref\": \"paper\"}, {\"font\": {\"size\": 16}, \"showarrow\": false, \"text\": \"((VAP    1xG 40287)F1 X SEF   10)F1 X SMR  155\", \"x\": 0.5, \"xanchor\": \"center\", \"xref\": \"paper\", \"y\": 0.11224489795918369, \"yanchor\": \"bottom\", \"yref\": \"paper\"}, {\"font\": {\"size\": 16}, \"showarrow\": false, \"text\": \"(VAP    1xG 40287)F1 X SEF   10\", \"x\": 0.5, \"xanchor\": \"center\", \"xref\": \"paper\", \"y\": 0.03826530612244899, \"yanchor\": \"bottom\", \"yref\": \"paper\"}], \"barmode\": \"stack\", \"height\": 2000, \"showlegend\": false, \"template\": {\"data\": {\"bar\": [{\"error_x\": {\"color\": \"#2a3f5f\"}, \"error_y\": {\"color\": \"#2a3f5f\"}, \"marker\": {\"line\": {\"color\": \"#E5ECF6\", \"width\": 0.5}}, \"type\": \"bar\"}], \"barpolar\": [{\"marker\": {\"line\": {\"color\": \"#E5ECF6\", \"width\": 0.5}}, \"type\": \"barpolar\"}], \"carpet\": [{\"aaxis\": {\"endlinecolor\": \"#2a3f5f\", \"gridcolor\": \"white\", \"linecolor\": \"white\", \"minorgridcolor\": \"white\", \"startlinecolor\": \"#2a3f5f\"}, \"baxis\": {\"endlinecolor\": \"#2a3f5f\", \"gridcolor\": \"white\", \"linecolor\": \"white\", \"minorgridcolor\": \"white\", \"startlinecolor\": \"#2a3f5f\"}, \"type\": \"carpet\"}], \"choropleth\": [{\"colorbar\": {\"outlinewidth\": 0, \"ticks\": \"\"}, \"type\": \"choropleth\"}], \"contour\": [{\"colorbar\": {\"outlinewidth\": 0, \"ticks\": \"\"}, \"colorscale\": [[0.0, \"#0d0887\"], [0.1111111111111111, \"#46039f\"], [0.2222222222222222, \"#7201a8\"], [0.3333333333333333, \"#9c179e\"], [0.4444444444444444, \"#bd3786\"], [0.5555555555555556, \"#d8576b\"], [0.6666666666666666, \"#ed7953\"], [0.7777777777777778, \"#fb9f3a\"], [0.8888888888888888, \"#fdca26\"], [1.0, \"#f0f921\"]], \"type\": \"contour\"}], \"contourcarpet\": [{\"colorbar\": {\"outlinewidth\": 0, \"ticks\": \"\"}, \"type\": \"contourcarpet\"}], \"heatmap\": [{\"colorbar\": {\"outlinewidth\": 0, \"ticks\": \"\"}, \"colorscale\": [[0.0, \"#0d0887\"], [0.1111111111111111, \"#46039f\"], [0.2222222222222222, \"#7201a8\"], [0.3333333333333333, \"#9c179e\"], [0.4444444444444444, \"#bd3786\"], [0.5555555555555556, \"#d8576b\"], [0.6666666666666666, \"#ed7953\"], [0.7777777777777778, \"#fb9f3a\"], [0.8888888888888888, \"#fdca26\"], [1.0, \"#f0f921\"]], \"type\": \"heatmap\"}], \"heatmapgl\": [{\"colorbar\": {\"outlinewidth\": 0, \"ticks\": \"\"}, \"colorscale\": [[0.0, \"#0d0887\"], [0.1111111111111111, \"#46039f\"], [0.2222222222222222, \"#7201a8\"], [0.3333333333333333, \"#9c179e\"], [0.4444444444444444, \"#bd3786\"], [0.5555555555555556, \"#d8576b\"], [0.6666666666666666, \"#ed7953\"], [0.7777777777777778, \"#fb9f3a\"], [0.8888888888888888, \"#fdca26\"], [1.0, \"#f0f921\"]], \"type\": \"heatmapgl\"}], \"histogram\": [{\"marker\": {\"colorbar\": {\"outlinewidth\": 0, \"ticks\": \"\"}}, \"type\": \"histogram\"}], \"histogram2d\": [{\"colorbar\": {\"outlinewidth\": 0, \"ticks\": \"\"}, \"colorscale\": [[0.0, \"#0d0887\"], [0.1111111111111111, \"#46039f\"], [0.2222222222222222, \"#7201a8\"], [0.3333333333333333, \"#9c179e\"], [0.4444444444444444, \"#bd3786\"], [0.5555555555555556, \"#d8576b\"], [0.6666666666666666, \"#ed7953\"], [0.7777777777777778, \"#fb9f3a\"], [0.8888888888888888, \"#fdca26\"], [1.0, \"#f0f921\"]], \"type\": \"histogram2d\"}], \"histogram2dcontour\": [{\"colorbar\": {\"outlinewidth\": 0, \"ticks\": \"\"}, \"colorscale\": [[0.0, \"#0d0887\"], [0.1111111111111111, \"#46039f\"], [0.2222222222222222, \"#7201a8\"], [0.3333333333333333, \"#9c179e\"], [0.4444444444444444, \"#bd3786\"], [0.5555555555555556, \"#d8576b\"], [0.6666666666666666, \"#ed7953\"], [0.7777777777777778, \"#fb9f3a\"], [0.8888888888888888, \"#fdca26\"], [1.0, \"#f0f921\"]], \"type\": \"histogram2dcontour\"}], \"mesh3d\": [{\"colorbar\": {\"outlinewidth\": 0, \"ticks\": \"\"}, \"type\": \"mesh3d\"}], \"parcoords\": [{\"line\": {\"colorbar\": {\"outlinewidth\": 0, \"ticks\": \"\"}}, \"type\": \"parcoords\"}], \"pie\": [{\"automargin\": true, \"type\": \"pie\"}], \"scatter\": [{\"marker\": {\"colorbar\": {\"outlinewidth\": 0, \"ticks\": \"\"}}, \"type\": \"scatter\"}], \"scatter3d\": [{\"line\": {\"colorbar\": {\"outlinewidth\": 0, \"ticks\": \"\"}}, \"marker\": {\"colorbar\": {\"outlinewidth\": 0, \"ticks\": \"\"}}, \"type\": \"scatter3d\"}], \"scattercarpet\": [{\"marker\": {\"colorbar\": {\"outlinewidth\": 0, \"ticks\": \"\"}}, \"type\": \"scattercarpet\"}], \"scattergeo\": [{\"marker\": {\"colorbar\": {\"outlinewidth\": 0, \"ticks\": \"\"}}, \"type\": \"scattergeo\"}], \"scattergl\": [{\"marker\": {\"colorbar\": {\"outlinewidth\": 0, \"ticks\": \"\"}}, \"type\": \"scattergl\"}], \"scattermapbox\": [{\"marker\": {\"colorbar\": {\"outlinewidth\": 0, \"ticks\": \"\"}}, \"type\": \"scattermapbox\"}], \"scatterpolar\": [{\"marker\": {\"colorbar\": {\"outlinewidth\": 0, \"ticks\": \"\"}}, \"type\": \"scatterpolar\"}], \"scatterpolargl\": [{\"marker\": {\"colorbar\": {\"outlinewidth\": 0, \"ticks\": \"\"}}, \"type\": \"scatterpolargl\"}], \"scatterternary\": [{\"marker\": {\"colorbar\": {\"outlinewidth\": 0, \"ticks\": \"\"}}, \"type\": \"scatterternary\"}], \"surface\": [{\"colorbar\": {\"outlinewidth\": 0, \"ticks\": \"\"}, \"colorscale\": [[0.0, \"#0d0887\"], [0.1111111111111111, \"#46039f\"], [0.2222222222222222, \"#7201a8\"], [0.3333333333333333, \"#9c179e\"], [0.4444444444444444, \"#bd3786\"], [0.5555555555555556, \"#d8576b\"], [0.6666666666666666, \"#ed7953\"], [0.7777777777777778, \"#fb9f3a\"], [0.8888888888888888, \"#fdca26\"], [1.0, \"#f0f921\"]], \"type\": \"surface\"}], \"table\": [{\"cells\": {\"fill\": {\"color\": \"#EBF0F8\"}, \"line\": {\"color\": \"white\"}}, \"header\": {\"fill\": {\"color\": \"#C8D4E3\"}, \"line\": {\"color\": \"white\"}}, \"type\": \"table\"}]}, \"layout\": {\"annotationdefaults\": {\"arrowcolor\": \"#2a3f5f\", \"arrowhead\": 0, \"arrowwidth\": 1}, \"coloraxis\": {\"colorbar\": {\"outlinewidth\": 0, \"ticks\": \"\"}}, \"colorscale\": {\"diverging\": [[0, \"#8e0152\"], [0.1, \"#c51b7d\"], [0.2, \"#de77ae\"], [0.3, \"#f1b6da\"], [0.4, \"#fde0ef\"], [0.5, \"#f7f7f7\"], [0.6, \"#e6f5d0\"], [0.7, \"#b8e186\"], [0.8, \"#7fbc41\"], [0.9, \"#4d9221\"], [1, \"#276419\"]], \"sequential\": [[0.0, \"#0d0887\"], [0.1111111111111111, \"#46039f\"], [0.2222222222222222, \"#7201a8\"], [0.3333333333333333, \"#9c179e\"], [0.4444444444444444, \"#bd3786\"], [0.5555555555555556, \"#d8576b\"], [0.6666666666666666, \"#ed7953\"], [0.7777777777777778, \"#fb9f3a\"], [0.8888888888888888, \"#fdca26\"], [1.0, \"#f0f921\"]], \"sequentialminus\": [[0.0, \"#0d0887\"], [0.1111111111111111, \"#46039f\"], [0.2222222222222222, \"#7201a8\"], [0.3333333333333333, \"#9c179e\"], [0.4444444444444444, \"#bd3786\"], [0.5555555555555556, \"#d8576b\"], [0.6666666666666666, \"#ed7953\"], [0.7777777777777778, \"#fb9f3a\"], [0.8888888888888888, \"#fdca26\"], [1.0, \"#f0f921\"]]}, \"colorway\": [\"#636efa\", \"#EF553B\", \"#00cc96\", \"#ab63fa\", \"#FFA15A\", \"#19d3f3\", \"#FF6692\", \"#B6E880\", \"#FF97FF\", \"#FECB52\"], \"font\": {\"color\": \"#2a3f5f\"}, \"geo\": {\"bgcolor\": \"white\", \"lakecolor\": \"white\", \"landcolor\": \"#E5ECF6\", \"showlakes\": true, \"showland\": true, \"subunitcolor\": \"white\"}, \"hoverlabel\": {\"align\": \"left\"}, \"hovermode\": \"closest\", \"mapbox\": {\"style\": \"light\"}, \"paper_bgcolor\": \"white\", \"plot_bgcolor\": \"#E5ECF6\", \"polar\": {\"angularaxis\": {\"gridcolor\": \"white\", \"linecolor\": \"white\", \"ticks\": \"\"}, \"bgcolor\": \"#E5ECF6\", \"radialaxis\": {\"gridcolor\": \"white\", \"linecolor\": \"white\", \"ticks\": \"\"}}, \"scene\": {\"xaxis\": {\"backgroundcolor\": \"#E5ECF6\", \"gridcolor\": \"white\", \"gridwidth\": 2, \"linecolor\": \"white\", \"showbackground\": true, \"ticks\": \"\", \"zerolinecolor\": \"white\"}, \"yaxis\": {\"backgroundcolor\": \"#E5ECF6\", \"gridcolor\": \"white\", \"gridwidth\": 2, \"linecolor\": \"white\", \"showbackground\": true, \"ticks\": \"\", \"zerolinecolor\": \"white\"}, \"zaxis\": {\"backgroundcolor\": \"#E5ECF6\", \"gridcolor\": \"white\", \"gridwidth\": 2, \"linecolor\": \"white\", \"showbackground\": true, \"ticks\": \"\", \"zerolinecolor\": \"white\"}}, \"shapedefaults\": {\"line\": {\"color\": \"#2a3f5f\"}}, \"ternary\": {\"aaxis\": {\"gridcolor\": \"white\", \"linecolor\": \"white\", \"ticks\": \"\"}, \"baxis\": {\"gridcolor\": \"white\", \"linecolor\": \"white\", \"ticks\": \"\"}, \"bgcolor\": \"#E5ECF6\", \"caxis\": {\"gridcolor\": \"white\", \"linecolor\": \"white\", \"ticks\": \"\"}}, \"title\": {\"x\": 0.05}, \"xaxis\": {\"automargin\": true, \"gridcolor\": \"white\", \"linecolor\": \"white\", \"ticks\": \"\", \"title\": {\"standoff\": 15}, \"zerolinecolor\": \"white\", \"zerolinewidth\": 2}, \"yaxis\": {\"automargin\": true, \"gridcolor\": \"white\", \"linecolor\": \"white\", \"ticks\": \"\", \"title\": {\"standoff\": 15}, \"zerolinecolor\": \"white\", \"zerolinewidth\": 2}}}, \"width\": 700, \"xaxis\": {\"anchor\": \"y\", \"categoryorder\": \"total descending\", \"domain\": [0.0, 1.0]}, \"xaxis10\": {\"anchor\": \"y10\", \"domain\": [0.0, 1.0]}, \"xaxis11\": {\"anchor\": \"y11\", \"domain\": [0.0, 1.0]}, \"xaxis12\": {\"anchor\": \"y12\", \"domain\": [0.0, 1.0]}, \"xaxis13\": {\"anchor\": \"y13\", \"domain\": [0.0, 1.0]}, \"xaxis14\": {\"anchor\": \"y14\", \"domain\": [0.0, 1.0]}, \"xaxis2\": {\"anchor\": \"y2\", \"domain\": [0.0, 1.0]}, \"xaxis3\": {\"anchor\": \"y3\", \"domain\": [0.0, 1.0]}, \"xaxis4\": {\"anchor\": \"y4\", \"domain\": [0.0, 1.0]}, \"xaxis5\": {\"anchor\": \"y5\", \"domain\": [0.0, 1.0]}, \"xaxis6\": {\"anchor\": \"y6\", \"domain\": [0.0, 1.0]}, \"xaxis7\": {\"anchor\": \"y7\", \"domain\": [0.0, 1.0]}, \"xaxis8\": {\"anchor\": \"y8\", \"domain\": [0.0, 1.0]}, \"xaxis9\": {\"anchor\": \"y9\", \"domain\": [0.0, 1.0]}, \"yaxis\": {\"anchor\": \"x\", \"domain\": [0.9617346938775511, 1.0]}, \"yaxis10\": {\"anchor\": \"x10\", \"domain\": [0.29591836734693877, 0.33418367346938777]}, \"yaxis11\": {\"anchor\": \"x11\", \"domain\": [0.22193877551020408, 0.2602040816326531]}, \"yaxis12\": {\"anchor\": \"x12\", \"domain\": [0.14795918367346939, 0.18622448979591838]}, \"yaxis13\": {\"anchor\": \"x13\", \"domain\": [0.07397959183673469, 0.11224489795918369]}, \"yaxis14\": {\"anchor\": \"x14\", \"domain\": [0.0, 0.03826530612244899]}, \"yaxis2\": {\"anchor\": \"x2\", \"domain\": [0.8877551020408164, 0.9260204081632654]}, \"yaxis3\": {\"anchor\": \"x3\", \"domain\": [0.8137755102040818, 0.8520408163265307]}, \"yaxis4\": {\"anchor\": \"x4\", \"domain\": [0.739795918367347, 0.778061224489796]}, \"yaxis5\": {\"anchor\": \"x5\", \"domain\": [0.6658163265306123, 0.7040816326530612]}, \"yaxis6\": {\"anchor\": \"x6\", \"domain\": [0.5918367346938775, 0.6301020408163265]}, \"yaxis7\": {\"anchor\": \"x7\", \"domain\": [0.5178571428571429, 0.5561224489795918]}, \"yaxis8\": {\"anchor\": \"x8\", \"domain\": [0.4438775510204082, 0.4821428571428572]}, \"yaxis9\": {\"anchor\": \"x9\", \"domain\": [0.3698979591836735, 0.4081632653061225]}},\n",
       "                        {\"responsive\": true}\n",
       "                    ).then(function(){\n",
       "                            \n",
       "var gd = document.getElementById('a37d4960-7aac-4daf-9a42-734aefabdcdb');\n",
       "var x = new MutationObserver(function (mutations, observer) {{\n",
       "        var display = window.getComputedStyle(gd).display;\n",
       "        if (!display || display === 'none') {{\n",
       "            console.log([gd, 'removed!']);\n",
       "            Plotly.purge(gd);\n",
       "            observer.disconnect();\n",
       "        }}\n",
       "}});\n",
       "\n",
       "// Listen for the removal of the full notebook cells\n",
       "var notebookContainer = gd.closest('#notebook-container');\n",
       "if (notebookContainer) {{\n",
       "    x.observe(notebookContainer, {childList: true});\n",
       "}}\n",
       "\n",
       "// Listen for the clearing of the current output cell\n",
       "var outputEl = gd.closest('.output');\n",
       "if (outputEl) {{\n",
       "    x.observe(outputEl, {childList: true});\n",
       "}}\n",
       "\n",
       "                        })\n",
       "                };\n",
       "                });\n",
       "            </script>\n",
       "        </div>"
      ]
     },
     "metadata": {},
     "output_type": "display_data"
    }
   ],
   "source": [
    "fig = make_subplots(rows=14, cols=1,subplot_titles=titles, shared_yaxes=True)\n",
    "n = 1\n",
    "for i, subdf in df.groupby('family', as_index=False):\n",
    "    f1fams = list()\n",
    "    adap = defaultdict(list)\n",
    "    for j, fdf in subdf.groupby('f1.2', as_index=False):\n",
    "        f1fams.append(j)\n",
    "        counts = fdf.groupby('Adap. M *F4.5', as_index=False).count()\n",
    "        countsTotal = counts['UE'].sum()\n",
    "        for k in range(1,5):\n",
    "            try:\n",
    "                catData = list(counts[counts['Adap. M *F4.5'] == k]['UE'])[0]\n",
    "                adap[k].append(catData)\n",
    "            except IndexError:\n",
    "                adap[k].append(0)\n",
    "    if i :\n",
    "        fig.add_trace(go.Bar(name=\"1\", x=f1fams, y=adap[1],marker_color='#de425b'),row=n, col=1)\n",
    "        fig.add_trace(go.Bar(name=\"2\", x=f1fams, y=adap[2],marker_color='#f9a161'),row=n, col=1)\n",
    "        fig.add_trace(go.Bar(name=\"3\", x=f1fams, y=adap[3],marker_color='#a8c163'),row=n, col=1)\n",
    "        fig.add_trace(go.Bar(name=\"4\", x=f1fams, y=adap[4],marker_color='#488f31'),row=n, col=1)\n",
    "        n += 1\n",
    "\n",
    "\n",
    "\n",
    "fig['layout'].update(barmode=\"stack\", \n",
    "                     xaxis={'categoryorder':'total descending'},\n",
    "                     height=2000, \n",
    "                     width=700, \n",
    "                     showlegend=False)        \n",
    "\n",
    "\n",
    "fig.show()"
   ]
  },
  {
   "cell_type": "code",
   "execution_count": null,
   "metadata": {},
   "outputs": [],
   "source": []
  }
 ],
 "metadata": {
  "kernelspec": {
   "display_name": "IntrogressionMapping",
   "language": "python",
   "name": "introgressionmapping"
  },
  "language_info": {
   "codemirror_mode": {
    "name": "ipython",
    "version": 3
   },
   "file_extension": ".py",
   "mimetype": "text/x-python",
   "name": "python",
   "nbconvert_exporter": "python",
   "pygments_lexer": "ipython3",
   "version": "3.7.9"
  }
 },
 "nbformat": 4,
 "nbformat_minor": 4
}
